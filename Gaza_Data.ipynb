{
  "cells": [
    {
      "cell_type": "markdown",
      "metadata": {
        "id": "view-in-github",
        "colab_type": "text"
      },
      "source": [
        "<a href=\"https://colab.research.google.com/github/Moifek/Gaza_Martyrs/blob/main/Gaza_Data.ipynb\" target=\"_parent\"><img src=\"https://colab.research.google.com/assets/colab-badge.svg\" alt=\"Open In Colab\"/></a>"
      ]
    },
    {
      "cell_type": "markdown",
      "source": [
        "**Extracting and cleaning data for further use and studies provided by the Pelastinien Health Ministry\n",
        "Introduction:**\n",
        "\n",
        "In this Kaggle notebook, we import, read and convert aswell as fix and clean the data.\n",
        "We also showcase a few graphs but this notebook is mainly for data preparation.pip install numpy\n",
        "\n",
        "\n",
        "---\n",
        "\n",
        "\n"
      ],
      "metadata": {
        "id": "9OHoHa3lIcut"
      }
    },
    {
      "cell_type": "code",
      "execution_count": null,
      "metadata": {
        "id": "SoQPKZASBkXG"
      },
      "outputs": [],
      "source": [
        "pip install numpy"
      ]
    },
    {
      "cell_type": "code",
      "execution_count": null,
      "metadata": {
        "id": "SA6lb79tB5Tm"
      },
      "outputs": [],
      "source": [
        "pip install pdfplumber"
      ]
    },
    {
      "cell_type": "code",
      "execution_count": null,
      "metadata": {
        "id": "QOWmXsB_CIrQ"
      },
      "outputs": [],
      "source": [
        "pip install PyPDF2"
      ]
    },
    {
      "cell_type": "code",
      "execution_count": null,
      "metadata": {
        "id": "xrPs5LVzF8-2"
      },
      "outputs": [],
      "source": [
        "pip install pandas"
      ]
    },
    {
      "cell_type": "code",
      "execution_count": 6,
      "metadata": {
        "id": "JhKbcTJPCKIx"
      },
      "outputs": [],
      "source": [
        "# To read the PDF\n",
        "import PyPDF2\n",
        "import pdfplumber\n",
        "import os\n",
        "import pandas as pd\n",
        "import numpy"
      ]
    },
    {
      "cell_type": "markdown",
      "source": [
        "Using **PdfPlubmer** we can extract the information from the tables inside the pdf to an actual list on python"
      ],
      "metadata": {
        "id": "yIPrVBwtImUM"
      }
    },
    {
      "cell_type": "code",
      "execution_count": 7,
      "metadata": {
        "id": "fqUKIAjsCgNg"
      },
      "outputs": [],
      "source": [
        "# Extracting tables from the page\n",
        "\n",
        "def extract_table(pdf_path, page_num):\n",
        "    # Open the pdf file\n",
        "    pdf = pdfplumber.open(pdf_path)\n",
        "    table = []\n",
        "    pages = range(page_num)\n",
        "    for i in pages:\n",
        "      table_page = pdf.pages[i]\n",
        "      table.append(table_page.extract_tables())\n",
        "    return table\n",
        "\n",
        "#print(extract_table('/content/drive/MyDrive/gaza_clean.pdf',145))"
      ]
    },
    {
      "cell_type": "code",
      "execution_count": 54,
      "metadata": {
        "id": "IROYsIFiaPlo"
      },
      "outputs": [],
      "source": [
        "table_ = extract_table('/content/drive/MyDrive/gaza_clean.pdf',145)"
      ]
    },
    {
      "cell_type": "markdown",
      "source": [
        "This step is made because the result from our function is like so [[[]]]\n",
        "so we have to scope out of the redundant lists"
      ],
      "metadata": {
        "id": "oHPzpN58Iwns"
      }
    },
    {
      "cell_type": "code",
      "source": [
        "data = []\n",
        "for item in table_:\n",
        "  data.append(item)"
      ],
      "metadata": {
        "id": "0tKljRGB3CY5"
      },
      "execution_count": 64,
      "outputs": []
    },
    {
      "cell_type": "code",
      "source": [
        "for x in range(2):\n",
        "  data2 = [item for sublist in data for item in sublist]\n",
        "  data = data2\n",
        "data2"
      ],
      "metadata": {
        "id": "CMIfdv7t4K6B"
      },
      "execution_count": null,
      "outputs": []
    },
    {
      "cell_type": "markdown",
      "source": [
        "Seperating the Data columns"
      ],
      "metadata": {
        "id": "ZcjwggORI9N-"
      }
    },
    {
      "cell_type": "code",
      "source": [
        "Age_ = []\n",
        "Name_ = []\n",
        "Identifier_ = []\n",
        "Gender_ = []\n",
        "Serial_ = []\n",
        "\n",
        "for x in range(1,len(data2)):\n",
        "  Serial_.append(data2[x][0])\n",
        "  Identifier_.append(data2[x][1])\n",
        "  Age_.append(data2[x][4])\n",
        "  Gender_.append(data2[x][3])\n",
        "  Name_.append(data2[x][2])"
      ],
      "metadata": {
        "id": "Tzvtk_R565PA"
      },
      "execution_count": 446,
      "outputs": []
    },
    {
      "cell_type": "markdown",
      "source": [
        "Function to Reverse the arabic words and the letters aswell, PdfPlumber reads from left to right however arabic text is read from right to left"
      ],
      "metadata": {
        "id": "fbAeZ0RvJCmC"
      }
    },
    {
      "cell_type": "code",
      "source": [
        "def ReverseArabicText(Arr):\n",
        "  res = []\n",
        "  for i in range(0,len(Arr)):\n",
        "    text = Arr[i]\n",
        "    reversed_text = ' '.join([word[::-1] for word in text.split()])\n",
        "    words = reversed_text.split()\n",
        "    reversed_text = ' '.join(reversed(words))\n",
        "    res.append(reversed_text)\n",
        "\n",
        "  return res"
      ],
      "metadata": {
        "id": "npjB69P42QB2"
      },
      "execution_count": 94,
      "outputs": []
    },
    {
      "cell_type": "code",
      "source": [
        "Name_ = ReverseArabicText(Name_)\n",
        "Gender_ = ReverseArabicText(Gender_)\n"
      ],
      "metadata": {
        "id": "_9chHI2v3HFr"
      },
      "execution_count": 447,
      "outputs": []
    },
    {
      "cell_type": "markdown",
      "source": [
        "**Data cleaning**\n",
        "\n",
        "We first start with replacing the text values to integer values for the age,\n",
        "'ماع نم لقأ' or 'أقل من عام' means less then a year and so we replaced it to -1"
      ],
      "metadata": {
        "id": "Ov2lKU9SJVp-"
      }
    },
    {
      "cell_type": "code",
      "source": [
        "for x in range(0,len(Age_)):\n",
        "  if(Age_[x]=='ماع نم لقأ'):\n",
        "    Age_[x]=-1"
      ],
      "metadata": {
        "id": "yucMsvyaJW2G"
      },
      "execution_count": null,
      "outputs": []
    },
    {
      "cell_type": "code",
      "source": [
        "for x in range(0,len(Age_)):\n",
        "  if(int(Age_[x]) > 100):\n",
        "    print(Age_[x])\n",
        "    print(Name_[x])\n",
        "    Age_.pop(x)\n",
        "    Serial_.pop(x)\n",
        "    Gender_.pop(x)\n",
        "    Identifier_.pop(x)\n",
        "    Name_.pop(x)\n",
        "#1823 is a valid data from the source however it is not logical, I will change it manually to 23"
      ],
      "metadata": {
        "id": "IJ_3fn3tzzgS"
      },
      "execution_count": 449,
      "outputs": []
    },
    {
      "cell_type": "markdown",
      "source": [
        "Instantiating the dataframe"
      ],
      "metadata": {
        "id": "Nll9cuQ9JuxL"
      }
    },
    {
      "cell_type": "code",
      "execution_count": 467,
      "metadata": {
        "id": "dpOg7LA0GGw3"
      },
      "outputs": [],
      "source": [
        "df = pd.DataFrame({\n",
        "    \"Serial\": Serial_,\n",
        "    \"Identification Number\": Identifier_,\n",
        "    \"Name\": Name_,\n",
        "    \"Gender\": Gender_,\n",
        "    \"Age\": Age_\n",
        "})\n",
        "convert_dict = {'Serial': int,\n",
        "                'Identification Number': int,\n",
        "                'Age': int,\n",
        "                }\n",
        "\n",
        "df = df.astype(convert_dict)"
      ]
    },
    {
      "cell_type": "code",
      "source": [
        "count_male = len(df[df['Gender'] == 'ذكر'])\n",
        "print(count_male)\n",
        "count_female = len(df[df['Gender'] == 'انثى'])\n",
        "print(count_female)\n",
        "Mean_Age_Male = df[df['Gender'] == 'ذكر']['Age'].mean()\n",
        "Mean_Age_Female = df[df['Gender'] == 'انثى']['Age'].mean()\n",
        "print(Mean_Age_Female)\n",
        "print(Mean_Age_Male)"
      ],
      "metadata": {
        "id": "nDrRmnqvB4hj"
      },
      "execution_count": null,
      "outputs": []
    },
    {
      "cell_type": "code",
      "source": [
        "import matplotlib.pyplot as plt\n",
        "\n",
        "grouped = df.groupby(['Gender']).size()\n",
        "\n",
        "# Create a bar graph\n",
        "grouped.plot(kind='bar', stacked=True)\n",
        "\n",
        "# Set labels and title\n",
        "plt.xlabel('Gender')\n",
        "plt.ylabel('Number of Deaths')\n",
        "plt.title('Deaths by Gender')\n",
        "\n",
        "# Show the plot\n",
        "plt.show()"
      ],
      "metadata": {
        "id": "Mug4FOevPk-0"
      },
      "execution_count": null,
      "outputs": []
    },
    {
      "cell_type": "code",
      "source": [
        "import plotly.express as px\n",
        "\n",
        "fig = px.bar(df, x='Age', y='Gender',\n",
        "             hover_data=['Gender', 'Age'], color='Gender',\n",
        "             labels={'pop':'Deaths in gaza'}, height=400)\n",
        "fig.show()"
      ],
      "metadata": {
        "id": "9MGtlpae3bW-"
      },
      "execution_count": null,
      "outputs": []
    },
    {
      "cell_type": "code",
      "source": [
        "Infants = []\n",
        "Children = []\n",
        "Adolescents = []\n",
        "Adults = []\n",
        "Older_adults = []\n",
        "\n",
        "Infants = df[(df['Age'] == -1) | (df['Age'] == 1)]\n",
        "Children = df[(df['Age'] > 1) & (df['Age'] < 13)]\n",
        "Adolescents = df[(df['Age'] > 12) & (df['Age'] < 18)]\n",
        "Adults = df[(df['Age'] > 17) & (df['Age'] < 66)]\n",
        "Older_adults = df[(df['Age'] > 64)]"
      ],
      "metadata": {
        "id": "WVhWCXgLQnIL"
      },
      "execution_count": 376,
      "outputs": []
    },
    {
      "cell_type": "code",
      "source": [
        "grouped = [len(Infants),len(Children),len(Adolescents),len(Adults),len(Older_adults)]\n",
        "sizes = grouped\n",
        "labels = ['Infants','Children','Adolescents','Adults','Older_adults']\n",
        "plt.pie(sizes, labels=labels)\n",
        "plt.title('Age groups of the martyrs')\n",
        "plt.show()"
      ],
      "metadata": {
        "id": "i-ii3UhgQcX5"
      },
      "execution_count": null,
      "outputs": []
    }
  ],
  "metadata": {
    "colab": {
      "provenance": [],
      "mount_file_id": "1VkyOMaJPHxGeBz3XezWIYvOWyl4HI8aC",
      "authorship_tag": "ABX9TyOYjjncVFtu5v8MdR6N4u24",
      "include_colab_link": true
    },
    "kernelspec": {
      "display_name": "Python 3",
      "name": "python3"
    },
    "language_info": {
      "name": "python"
    }
  },
  "nbformat": 4,
  "nbformat_minor": 0
}